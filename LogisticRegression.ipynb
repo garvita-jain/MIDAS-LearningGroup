{
  "nbformat": 4,
  "nbformat_minor": 0,
  "metadata": {
    "colab": {
      "name": "LogisticRegression",
      "provenance": [],
      "authorship_tag": "ABX9TyP/Bq2DRD3dA99wcLMhoP2E",
      "include_colab_link": true
    },
    "kernelspec": {
      "name": "python3",
      "display_name": "Python 3"
    }
  },
  "cells": [
    {
      "cell_type": "markdown",
      "metadata": {
        "id": "view-in-github",
        "colab_type": "text"
      },
      "source": [
        "<a href=\"https://colab.research.google.com/github/garvita-jain/MIDAS-LearningGroup/blob/master/LogisticRegression.ipynb\" target=\"_parent\"><img src=\"https://colab.research.google.com/assets/colab-badge.svg\" alt=\"Open In Colab\"/></a>"
      ]
    },
    {
      "cell_type": "code",
      "metadata": {
        "id": "elIY8Ob8AZwK",
        "colab_type": "code",
        "colab": {}
      },
      "source": [
        "import pandas as pd\n",
        "url = \"https://raw.githubusercontent.com/garvita-jain/MIDAS-LearningGroup/master/Week1/LoR_DT_RF/train.csv\"\n",
        "data = pd.read_csv(url)"
      ],
      "execution_count": 1,
      "outputs": []
    },
    {
      "cell_type": "code",
      "metadata": {
        "id": "klJQUmGwAwXZ",
        "colab_type": "code",
        "colab": {
          "base_uri": "https://localhost:8080/",
          "height": 255
        },
        "outputId": "2ca02a87-8e43-4f81-83b8-4ed03b105842"
      },
      "source": [
        "data.head"
      ],
      "execution_count": 2,
      "outputs": [
        {
          "output_type": "execute_result",
          "data": {
            "text/plain": [
              "<bound method NDFrame.head of      PassengerId  Survived  Pclass  ...     Fare Cabin  Embarked\n",
              "0              1         0       3  ...   7.2500   NaN         S\n",
              "1              2         1       1  ...  71.2833   C85         C\n",
              "2              3         1       3  ...   7.9250   NaN         S\n",
              "3              4         1       1  ...  53.1000  C123         S\n",
              "4              5         0       3  ...   8.0500   NaN         S\n",
              "..           ...       ...     ...  ...      ...   ...       ...\n",
              "886          887         0       2  ...  13.0000   NaN         S\n",
              "887          888         1       1  ...  30.0000   B42         S\n",
              "888          889         0       3  ...  23.4500   NaN         S\n",
              "889          890         1       1  ...  30.0000  C148         C\n",
              "890          891         0       3  ...   7.7500   NaN         Q\n",
              "\n",
              "[891 rows x 12 columns]>"
            ]
          },
          "metadata": {
            "tags": []
          },
          "execution_count": 2
        }
      ]
    },
    {
      "cell_type": "code",
      "metadata": {
        "id": "W8CBZafoA0pZ",
        "colab_type": "code",
        "colab": {}
      },
      "source": [
        "X = data.drop(columns=['PassengerId', 'Survived', 'Name', 'Ticket', 'Cabin'])\n",
        "y = data.iloc[:, 1]"
      ],
      "execution_count": 29,
      "outputs": []
    },
    {
      "cell_type": "code",
      "metadata": {
        "id": "CiUaFRQ-DNIE",
        "colab_type": "code",
        "colab": {
          "base_uri": "https://localhost:8080/",
          "height": 187
        },
        "outputId": "5f877ac2-9478-4de7-fec4-1ca09f797428"
      },
      "source": [
        "X.isna().any()\n",
        "X['Embarked'].fillna('na', inplace=True)\n",
        "X['Age'].fillna(X['Age'].mean(), inplace=True)\n",
        "X = pd.get_dummies(data=X, columns=['Sex', 'Embarked'], drop_first=True)\n",
        "X.isna().any()"
      ],
      "execution_count": 30,
      "outputs": [
        {
          "output_type": "execute_result",
          "data": {
            "text/plain": [
              "Pclass         False\n",
              "Age            False\n",
              "SibSp          False\n",
              "Parch          False\n",
              "Fare           False\n",
              "Sex_male       False\n",
              "Embarked_Q     False\n",
              "Embarked_S     False\n",
              "Embarked_na    False\n",
              "dtype: bool"
            ]
          },
          "metadata": {
            "tags": []
          },
          "execution_count": 30
        }
      ]
    },
    {
      "cell_type": "code",
      "metadata": {
        "id": "-WMe337LDHVR",
        "colab_type": "code",
        "colab": {
          "base_uri": "https://localhost:8080/",
          "height": 459
        },
        "outputId": "a159ac1f-5f53-464a-c74d-159c67bb9b16"
      },
      "source": [
        "print(X.head)\n",
        "print(y.head)"
      ],
      "execution_count": 31,
      "outputs": [
        {
          "output_type": "stream",
          "text": [
            "<bound method NDFrame.head of      Pclass        Age  SibSp  ...  Embarked_Q  Embarked_S  Embarked_na\n",
            "0         3  22.000000      1  ...           0           1            0\n",
            "1         1  38.000000      1  ...           0           0            0\n",
            "2         3  26.000000      0  ...           0           1            0\n",
            "3         1  35.000000      1  ...           0           1            0\n",
            "4         3  35.000000      0  ...           0           1            0\n",
            "..      ...        ...    ...  ...         ...         ...          ...\n",
            "886       2  27.000000      0  ...           0           1            0\n",
            "887       1  19.000000      0  ...           0           1            0\n",
            "888       3  29.699118      1  ...           0           1            0\n",
            "889       1  26.000000      0  ...           0           0            0\n",
            "890       3  32.000000      0  ...           1           0            0\n",
            "\n",
            "[891 rows x 9 columns]>\n",
            "<bound method NDFrame.head of 0      0\n",
            "1      1\n",
            "2      1\n",
            "3      1\n",
            "4      0\n",
            "      ..\n",
            "886    0\n",
            "887    1\n",
            "888    0\n",
            "889    1\n",
            "890    0\n",
            "Name: Survived, Length: 891, dtype: int64>\n"
          ],
          "name": "stdout"
        }
      ]
    },
    {
      "cell_type": "code",
      "metadata": {
        "id": "yEP4IPOrT2zi",
        "colab_type": "code",
        "colab": {}
      },
      "source": [
        "from sklearn.tree import DecisionTreeClassifier\n",
        "from sklearn.model_selection import train_test_split\n",
        "\n",
        "X_train, X_test, y_train, y_test = train_test_split(X, y, test_size = 0.2, random_state = 0)\n",
        "clf1 = DecisionTreeClassifier()\n",
        "clf1.fit(X_train, y_train)\n",
        "y_predict1 = clf1.predict(X_test)\n",
        "\n",
        "#print(y_predict1==y_test)"
      ],
      "execution_count": 51,
      "outputs": []
    },
    {
      "cell_type": "code",
      "metadata": {
        "id": "jomHMO6ubKQY",
        "colab_type": "code",
        "colab": {
          "base_uri": "https://localhost:8080/",
          "height": 34
        },
        "outputId": "6e49b521-2b87-47a6-b0ae-862d2f57e38e"
      },
      "source": [
        "from sklearn.metrics import accuracy_score\n",
        "accuracy_score(y_test, y_predict1)"
      ],
      "execution_count": 53,
      "outputs": [
        {
          "output_type": "execute_result",
          "data": {
            "text/plain": [
              "0.770949720670391"
            ]
          },
          "metadata": {
            "tags": []
          },
          "execution_count": 53
        }
      ]
    },
    {
      "cell_type": "code",
      "metadata": {
        "id": "iRJEkusUbS5v",
        "colab_type": "code",
        "colab": {}
      },
      "source": [
        "from sklearn.ensemble import RandomForestClassifier\n",
        "clf2 = RandomForestClassifier(max_depth=100, random_state=0)\n",
        "clf2.fit(X_train, y_train)\n",
        "y_predict2 = clf2.predict(X_test)"
      ],
      "execution_count": 55,
      "outputs": []
    },
    {
      "cell_type": "code",
      "metadata": {
        "id": "O1qCNJhFbXiG",
        "colab_type": "code",
        "colab": {
          "base_uri": "https://localhost:8080/",
          "height": 34
        },
        "outputId": "f4632d7c-c467-4c9b-885e-75f843b015c6"
      },
      "source": [
        "accuracy_score(y_test, y_predict2)\n"
      ],
      "execution_count": 57,
      "outputs": [
        {
          "output_type": "execute_result",
          "data": {
            "text/plain": [
              "0.8324022346368715"
            ]
          },
          "metadata": {
            "tags": []
          },
          "execution_count": 57
        }
      ]
    },
    {
      "cell_type": "code",
      "metadata": {
        "id": "2Q-8SwTObZ9R",
        "colab_type": "code",
        "colab": {}
      },
      "source": [
        "from sklearn.linear_model import LogisticRegression\n",
        "clf3 = LogisticRegression(random_state=0, max_iter=500)\n",
        "clf3.fit(X_train, y_train)\n",
        "y_predict3 = clf3.predict(X_test)"
      ],
      "execution_count": 60,
      "outputs": []
    },
    {
      "cell_type": "code",
      "metadata": {
        "id": "uWkX62YDbd8Q",
        "colab_type": "code",
        "colab": {
          "base_uri": "https://localhost:8080/",
          "height": 34
        },
        "outputId": "807d9788-4bc1-41ea-f147-5df369b3ead1"
      },
      "source": [
        "accuracy_score(y_test, y_predict3)"
      ],
      "execution_count": 61,
      "outputs": [
        {
          "output_type": "execute_result",
          "data": {
            "text/plain": [
              "0.7988826815642458"
            ]
          },
          "metadata": {
            "tags": []
          },
          "execution_count": 61
        }
      ]
    },
    {
      "cell_type": "code",
      "metadata": {
        "id": "0Fg-GiCnbtE_",
        "colab_type": "code",
        "colab": {}
      },
      "source": [
        "url_test = \"https://raw.githubusercontent.com/garvita-jain/MIDAS-LearningGroup/master/Week1/LoR_DT_RF/test.csv\"\n",
        "data_test = pd.read_csv(url_test)"
      ],
      "execution_count": 62,
      "outputs": []
    },
    {
      "cell_type": "code",
      "metadata": {
        "id": "7YVLN49icQb6",
        "colab_type": "code",
        "colab": {}
      },
      "source": [
        "def prepareData(testData, trainData):\n",
        "  Xtrain = trainData.drop(columns=['PassengerId', 'Survived', 'Name', 'Ticket', 'Cabin'])\n",
        "  Xtest = testData.drop(columns=['PassengerId', 'Name', 'Ticket', 'Cabin'])\n",
        "  ytrain = trainData.iloc[:, 1]\n",
        "  # Xtrain['Embarked'].fillna('na', inplace=True)\n",
        "  Xtrain['Age'].fillna(Xtrain['Age'].mean(), inplace=True)\n",
        "  Xtrain = pd.get_dummies(data=Xtrain, columns=['Sex', 'Embarked'], drop_first=True)\n",
        "  # Xtest['Embarked'].fillna('na', inplace=True)\n",
        "  Xtest['Age'].fillna(Xtest['Age'].mean(), inplace=True)\n",
        "  Xtest['Fare'].fillna(Xtest['Fare'].mean(), inplace=True)\n",
        "  Xtest = pd.get_dummies(data=Xtest, columns=['Sex', 'Embarked'], drop_first=True)\n",
        "  return Xtrain,ytrain, Xtest"
      ],
      "execution_count": 79,
      "outputs": []
    },
    {
      "cell_type": "code",
      "metadata": {
        "id": "un10oP0sc7DB",
        "colab_type": "code",
        "colab": {
          "base_uri": "https://localhost:8080/",
          "height": 323
        },
        "outputId": "4f4917f8-d400-4bf8-ad55-951459d9822a"
      },
      "source": [
        "Xtrain, ytrain, Xtest = prepareData(data_test, data)\n",
        "print(Xtest.isna().any())\n",
        "print(Xtrain.isna().any())"
      ],
      "execution_count": 80,
      "outputs": [
        {
          "output_type": "stream",
          "text": [
            "Pclass        False\n",
            "Age           False\n",
            "SibSp         False\n",
            "Parch         False\n",
            "Fare          False\n",
            "Sex_male      False\n",
            "Embarked_Q    False\n",
            "Embarked_S    False\n",
            "dtype: bool\n",
            "Pclass        False\n",
            "Age           False\n",
            "SibSp         False\n",
            "Parch         False\n",
            "Fare          False\n",
            "Sex_male      False\n",
            "Embarked_Q    False\n",
            "Embarked_S    False\n",
            "dtype: bool\n"
          ],
          "name": "stdout"
        }
      ]
    },
    {
      "cell_type": "code",
      "metadata": {
        "id": "t3hr4LpidAKN",
        "colab_type": "code",
        "colab": {}
      },
      "source": [
        "from sklearn.ensemble import RandomForestClassifier\n",
        "clf = RandomForestClassifier(max_depth=100, random_state=0)\n",
        "clf.fit(Xtrain, ytrain)\n",
        "y_predict = clf.predict(Xtest)"
      ],
      "execution_count": 81,
      "outputs": []
    },
    {
      "cell_type": "code",
      "metadata": {
        "id": "v9P3j686dEEU",
        "colab_type": "code",
        "colab": {
          "base_uri": "https://localhost:8080/",
          "height": 221
        },
        "outputId": "9df68254-3ea8-40f2-d3f0-6295fdee65f9"
      },
      "source": [
        "print(y_predict)"
      ],
      "execution_count": 82,
      "outputs": [
        {
          "output_type": "stream",
          "text": [
            "[0 0 0 1 0 0 0 0 1 0 0 0 1 0 1 1 0 1 0 1 1 1 1 1 1 0 1 1 1 0 0 0 1 0 1 1 0\n",
            " 0 0 1 0 1 0 1 1 0 0 0 1 1 0 0 1 1 0 0 0 0 0 1 0 0 0 1 1 1 1 0 0 1 1 0 0 0\n",
            " 1 0 0 1 0 1 1 0 0 0 0 0 1 0 0 1 0 0 1 0 0 0 1 0 0 0 1 0 0 0 0 0 0 0 0 0 0\n",
            " 0 1 0 1 0 0 1 0 1 1 0 1 0 0 1 0 1 0 0 1 0 0 0 0 0 0 0 0 0 0 1 0 0 1 0 0 0\n",
            " 1 0 1 0 0 1 0 0 1 1 1 1 0 1 1 0 0 0 0 0 1 0 0 0 0 0 0 1 1 1 1 1 0 0 1 0 1\n",
            " 0 1 0 0 0 0 0 1 0 1 0 1 0 0 0 0 1 0 1 0 0 0 0 1 0 0 0 0 0 1 0 0 0 1 0 1 0\n",
            " 1 1 1 0 0 0 0 0 0 1 0 0 1 0 1 1 1 1 1 1 0 0 0 0 1 0 1 0 1 0 0 0 0 0 0 0 1\n",
            " 0 0 0 1 1 0 0 0 0 0 0 0 0 1 1 0 1 0 0 0 0 0 1 0 0 1 0 0 0 0 0 0 0 0 0 0 0\n",
            " 1 0 0 0 0 0 0 0 0 1 1 1 0 0 0 1 0 0 1 1 0 0 0 0 0 0 0 1 1 0 1 0 0 0 1 1 0\n",
            " 0 0 0 1 0 0 0 0 0 0 1 0 1 0 1 0 1 1 0 0 0 1 0 1 0 0 1 0 1 1 1 1 0 0 0 1 1\n",
            " 0 1 0 0 1 1 0 0 0 0 0 0 1 0 0 1 0 0 0 0 0 1 0 0 0 1 0 1 0 0 1 0 1 0 0 0 0\n",
            " 0 0 1 0 1 0 0 1 0 0 0]\n"
          ],
          "name": "stdout"
        }
      ]
    },
    {
      "cell_type": "code",
      "metadata": {
        "id": "3-dRQPbVgR8_",
        "colab_type": "code",
        "colab": {}
      },
      "source": [
        ""
      ],
      "execution_count": null,
      "outputs": []
    }
  ]
}