{
  "nbformat": 4,
  "nbformat_minor": 0,
  "metadata": {
    "colab": {
      "name": "svm.ipynb",
      "provenance": [],
      "authorship_tag": "ABX9TyPp7XNq4t+xJCRaPEDJHYji",
      "include_colab_link": true
    },
    "kernelspec": {
      "name": "python3",
      "display_name": "Python 3"
    }
  },
  "cells": [
    {
      "cell_type": "markdown",
      "metadata": {
        "id": "view-in-github",
        "colab_type": "text"
      },
      "source": [
        "<a href=\"https://colab.research.google.com/github/garvita-jain/MIDAS-LearningGroup/blob/master/svm.ipynb\" target=\"_parent\"><img src=\"https://colab.research.google.com/assets/colab-badge.svg\" alt=\"Open In Colab\"/></a>"
      ]
    },
    {
      "cell_type": "code",
      "metadata": {
        "id": "RPqaTEsJTSq3",
        "colab_type": "code",
        "colab": {}
      },
      "source": [
        "from sklearn import datasets\n",
        "from sklearn.model_selection import train_test_split"
      ],
      "execution_count": 26,
      "outputs": []
    },
    {
      "cell_type": "code",
      "metadata": {
        "id": "PqfQVoCLTeBY",
        "colab_type": "code",
        "colab": {}
      },
      "source": [
        "iris = datasets.load_iris()"
      ],
      "execution_count": 27,
      "outputs": []
    },
    {
      "cell_type": "code",
      "metadata": {
        "id": "PCUNXlitTlwn",
        "colab_type": "code",
        "colab": {
          "base_uri": "https://localhost:8080/",
          "height": 51
        },
        "outputId": "90bf4965-ddc9-49d8-d471-46e1e41b4443"
      },
      "source": [
        "print(iris.feature_names)\n",
        "print(iris.target_names)"
      ],
      "execution_count": 28,
      "outputs": [
        {
          "output_type": "stream",
          "text": [
            "['sepal length (cm)', 'sepal width (cm)', 'petal length (cm)', 'petal width (cm)']\n",
            "['setosa' 'versicolor' 'virginica']\n"
          ],
          "name": "stdout"
        }
      ]
    },
    {
      "cell_type": "code",
      "metadata": {
        "id": "c5F8SrtjTju7",
        "colab_type": "code",
        "colab": {}
      },
      "source": [
        "X = iris.data\n",
        "y = iris.target"
      ],
      "execution_count": 29,
      "outputs": []
    },
    {
      "cell_type": "code",
      "metadata": {
        "id": "AVaNRPKQUoq8",
        "colab_type": "code",
        "colab": {}
      },
      "source": [
        "Xtrain, Xtest, ytrain, ytest = train_test_split(X, y, test_size = 0.2, random_state = 0)"
      ],
      "execution_count": 30,
      "outputs": []
    },
    {
      "cell_type": "code",
      "metadata": {
        "id": "e-5vLUeTPvZ8",
        "colab_type": "code",
        "colab": {
          "base_uri": "https://localhost:8080/",
          "height": 119
        },
        "outputId": "f757c388-58f6-4c53-87ca-47ec6e0f5ca8"
      },
      "source": [
        "from sklearn.svm import SVC\n",
        "\n",
        "lin = SVC(C=1, kernel='linear', decision_function_shape='ovo')\n",
        "lin.fit(Xtrain, ytrain)\n",
        "y_predict = lin.predict(Xtest)\n",
        "print(y_predict)\n",
        "print(lin.score(Xtest, ytest))\n",
        "\n",
        "rbf = SVC(C=1, gamma=0.1, kernel='rbf', decision_function_shape='ovo')\n",
        "rbf.fit(Xtrain, ytrain)\n",
        "y_predict = rbf.predict(Xtest)\n",
        "print(y_predict)\n",
        "print(rbf.score(Xtest, ytest))\n",
        "\n",
        "poly = SVC(C=1, degree=3, kernel='poly', decision_function_shape='ovo')\n",
        "poly.fit(Xtrain, ytrain)\n",
        "y_predict = poly.predict(Xtest)\n",
        "print(y_predict)\n",
        "print(poly.score(Xtest, ytest))\n"
      ],
      "execution_count": 31,
      "outputs": [
        {
          "output_type": "stream",
          "text": [
            "[2 1 0 2 0 2 0 1 1 1 2 1 1 1 1 0 1 1 0 0 2 1 0 0 2 0 0 1 1 0]\n",
            "1.0\n",
            "[2 1 0 2 0 2 0 1 1 1 2 1 1 1 1 0 1 1 0 0 2 1 0 0 2 0 0 1 1 0]\n",
            "1.0\n",
            "[2 1 0 2 0 2 0 1 1 1 2 1 1 1 1 0 1 1 0 0 2 1 0 0 2 0 0 1 1 0]\n",
            "1.0\n"
          ],
          "name": "stdout"
        }
      ]
    },
    {
      "cell_type": "code",
      "metadata": {
        "id": "YBKpkgW1WVY0",
        "colab_type": "code",
        "colab": {}
      },
      "source": [
        ""
      ],
      "execution_count": null,
      "outputs": []
    }
  ]
}