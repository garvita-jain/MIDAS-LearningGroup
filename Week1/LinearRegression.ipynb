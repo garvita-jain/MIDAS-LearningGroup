{
  "nbformat": 4,
  "nbformat_minor": 0,
  "metadata": {
    "colab": {
      "name": "LinearRegression",
      "provenance": [],
      "authorship_tag": "ABX9TyPVp5zMVk7PwgcrFGzuYp+V",
      "include_colab_link": true
    },
    "kernelspec": {
      "name": "python3",
      "display_name": "Python 3"
    }
  },
  "cells": [
    {
      "cell_type": "markdown",
      "metadata": {
        "id": "view-in-github",
        "colab_type": "text"
      },
      "source": [
        "<a href=\"https://colab.research.google.com/github/garvita-jain/MIDAS-LearningGroup/blob/master/LinearRegression.ipynb\" target=\"_parent\"><img src=\"https://colab.research.google.com/assets/colab-badge.svg\" alt=\"Open In Colab\"/></a>"
      ]
    },
    {
      "cell_type": "code",
      "metadata": {
        "id": "nCaln7_lDl--",
        "colab_type": "code",
        "colab": {}
      },
      "source": [
        "import pandas as pd\n",
        "url = \"https://raw.githubusercontent.com/garvita-jain/MachineLearning/master/Week1/LR/train.csv\"\n",
        "data = pd.read_csv(url)"
      ],
      "execution_count": 14,
      "outputs": []
    },
    {
      "cell_type": "code",
      "metadata": {
        "id": "4DV8z_4BFyG-",
        "colab_type": "code",
        "colab": {}
      },
      "source": [
        "url_test = \"https://raw.githubusercontent.com/garvita-jain/MIDAS-LearningGroup/master/Week1/LR/test.csv\"\n",
        "data_test = pd.read_csv(url_test)"
      ],
      "execution_count": 15,
      "outputs": []
    },
    {
      "cell_type": "code",
      "metadata": {
        "id": "EXQ8noURF2sz",
        "colab_type": "code",
        "colab": {}
      },
      "source": [
        "X = data.drop(columns = ['Id', 'Alley', 'SalePrice', 'PoolQC'])\n",
        "y = data.iloc[:, -1:]"
      ],
      "execution_count": 16,
      "outputs": []
    },
    {
      "cell_type": "code",
      "metadata": {
        "id": "uKp7bgv4GBVf",
        "colab_type": "code",
        "colab": {}
      },
      "source": [
        "X['LotFrontage'].fillna(X['LotFrontage'].mean(), inplace=True)\n",
        "X['MasVnrArea'].fillna(X['MasVnrArea'].mean(), inplace=True)\n",
        "X['GarageYrBlt'].fillna(X['GarageYrBlt'].median(), inplace=True)\n",
        "X['GarageCars'].fillna(X['GarageCars'].median(), inplace=True)\n",
        "X['GarageArea'].fillna(X['GarageArea'].mean(), inplace=True)\n",
        "X.fillna('na', inplace=True)"
      ],
      "execution_count": 17,
      "outputs": []
    },
    {
      "cell_type": "code",
      "metadata": {
        "id": "GFkxFwFAGFnv",
        "colab_type": "code",
        "colab": {
          "base_uri": "https://localhost:8080/",
          "height": 187
        },
        "outputId": "c7324899-2b6b-4393-b871-6a6718533c5d"
      },
      "source": [
        "from sklearn.preprocessing import LabelEncoder\n",
        "encoder = LabelEncoder()\n",
        "columnList = X.select_dtypes(include = \"object\").columns\n",
        "print(columnList)\n",
        "\n",
        "for i in columnList:\n",
        "  X[i] = encoder.fit_transform(X[i].astype('str'))\n",
        "\n",
        "# X.head"
      ],
      "execution_count": 18,
      "outputs": [
        {
          "output_type": "stream",
          "text": [
            "Index(['MSZoning', 'Street', 'LotShape', 'LandContour', 'Utilities',\n",
            "       'LotConfig', 'LandSlope', 'Neighborhood', 'Condition1', 'Condition2',\n",
            "       'BldgType', 'HouseStyle', 'RoofStyle', 'RoofMatl', 'Exterior1st',\n",
            "       'Exterior2nd', 'MasVnrType', 'ExterQual', 'ExterCond', 'Foundation',\n",
            "       'BsmtQual', 'BsmtCond', 'BsmtExposure', 'BsmtFinType1', 'BsmtFinType2',\n",
            "       'Heating', 'HeatingQC', 'CentralAir', 'Electrical', 'KitchenQual',\n",
            "       'Functional', 'FireplaceQu', 'GarageType', 'GarageFinish', 'GarageQual',\n",
            "       'GarageCond', 'PavedDrive', 'Fence', 'MiscFeature', 'SaleType',\n",
            "       'SaleCondition'],\n",
            "      dtype='object')\n"
          ],
          "name": "stdout"
        }
      ]
    },
    {
      "cell_type": "code",
      "metadata": {
        "id": "EViOftYmGMUq",
        "colab_type": "code",
        "colab": {}
      },
      "source": [
        "from sklearn.model_selection import train_test_split\n",
        "X_train, X_test, y_train, y_test = train_test_split(X, y, test_size = 0.2, random_state = 0)"
      ],
      "execution_count": 19,
      "outputs": []
    },
    {
      "cell_type": "code",
      "metadata": {
        "id": "UqOCJ0b0GRbf",
        "colab_type": "code",
        "colab": {
          "base_uri": "https://localhost:8080/",
          "height": 88
        },
        "outputId": "de963bd1-c714-457d-bead-5657dd7ade14"
      },
      "source": [
        "from sklearn.ensemble import RandomForestRegressor\n",
        "regressor1 = RandomForestRegressor(n_estimators = 100, random_state = 0)\n",
        "regressor1.fit(X_train, y_train)\n",
        "\n",
        "y_predict = regressor1.predict(X_test)\n",
        "\n",
        "regressor1.score(X_test, y_test)"
      ],
      "execution_count": 20,
      "outputs": [
        {
          "output_type": "stream",
          "text": [
            "/usr/local/lib/python3.6/dist-packages/ipykernel_launcher.py:3: DataConversionWarning: A column-vector y was passed when a 1d array was expected. Please change the shape of y to (n_samples,), for example using ravel().\n",
            "  This is separate from the ipykernel package so we can avoid doing imports until\n"
          ],
          "name": "stderr"
        },
        {
          "output_type": "execute_result",
          "data": {
            "text/plain": [
              "0.8428353604405556"
            ]
          },
          "metadata": {
            "tags": []
          },
          "execution_count": 20
        }
      ]
    },
    {
      "cell_type": "code",
      "metadata": {
        "id": "Gt3xjTAfGdLx",
        "colab_type": "code",
        "colab": {}
      },
      "source": [
        "Xtest = data_test.drop(columns = ['Id', 'Alley', 'PoolQC'])\n",
        "\n",
        "Xtest['LotFrontage'].fillna(Xtest['LotFrontage'].mean(), inplace=True)\n",
        "Xtest['BsmtFinSF1'].fillna(Xtest['BsmtFinSF1'].mean(), inplace=True)\n",
        "Xtest['BsmtFinSF2'].fillna(Xtest['BsmtFinSF2'].mean(), inplace=True)\n",
        "Xtest['BsmtFinSF2'].fillna(Xtest['BsmtFinSF2'].mean(), inplace=True)\n",
        "Xtest['BsmtUnfSF'].fillna(Xtest['BsmtUnfSF'].mean(), inplace=True)\n",
        "Xtest['TotalBsmtSF'].fillna(Xtest['TotalBsmtSF'].mean(), inplace=True)\n",
        "Xtest['BsmtFullBath'].fillna(Xtest['BsmtFullBath'].mean(), inplace=True)\n",
        "Xtest['BsmtHalfBath'].fillna(Xtest['BsmtHalfBath'].mean(), inplace=True)\n",
        "Xtest['MasVnrArea'].fillna(Xtest['MasVnrArea'].mean(), inplace=True)\n",
        "Xtest['GarageYrBlt'].fillna(Xtest['GarageYrBlt'].median(), inplace=True)\n",
        "Xtest['GarageCars'].fillna(Xtest['GarageCars'].median(), inplace=True)\n",
        "Xtest['GarageArea'].fillna(Xtest['GarageArea'].mean(), inplace=True)\n",
        "\n",
        "Xtest.fillna('na', inplace=True)"
      ],
      "execution_count": 21,
      "outputs": []
    },
    {
      "cell_type": "code",
      "metadata": {
        "id": "B_Y1u3h9Hjj6",
        "colab_type": "code",
        "colab": {
          "base_uri": "https://localhost:8080/",
          "height": 187
        },
        "outputId": "e39ad444-cd45-4e88-ecaa-aa954b1a5d07"
      },
      "source": [
        "columnList = Xtest.select_dtypes(include = \"object\").columns\n",
        "print(columnList)\n",
        "\n",
        "for i in columnList:\n",
        "  Xtest[i] = encoder.fit_transform(Xtest[i].astype('str'))\n",
        "\n",
        "# Xtest.head"
      ],
      "execution_count": 22,
      "outputs": [
        {
          "output_type": "stream",
          "text": [
            "Index(['MSZoning', 'Street', 'LotShape', 'LandContour', 'Utilities',\n",
            "       'LotConfig', 'LandSlope', 'Neighborhood', 'Condition1', 'Condition2',\n",
            "       'BldgType', 'HouseStyle', 'RoofStyle', 'RoofMatl', 'Exterior1st',\n",
            "       'Exterior2nd', 'MasVnrType', 'ExterQual', 'ExterCond', 'Foundation',\n",
            "       'BsmtQual', 'BsmtCond', 'BsmtExposure', 'BsmtFinType1', 'BsmtFinType2',\n",
            "       'Heating', 'HeatingQC', 'CentralAir', 'Electrical', 'KitchenQual',\n",
            "       'Functional', 'FireplaceQu', 'GarageType', 'GarageFinish', 'GarageQual',\n",
            "       'GarageCond', 'PavedDrive', 'Fence', 'MiscFeature', 'SaleType',\n",
            "       'SaleCondition'],\n",
            "      dtype='object')\n"
          ],
          "name": "stdout"
        }
      ]
    },
    {
      "cell_type": "code",
      "metadata": {
        "id": "kh9th5OhH36C",
        "colab_type": "code",
        "colab": {
          "base_uri": "https://localhost:8080/",
          "height": 88
        },
        "outputId": "06502237-5229-494f-e3d1-08888962febb"
      },
      "source": [
        "regressor = RandomForestRegressor(n_estimators = 100, random_state = 0)\n",
        "regressor.fit(X, y)\n",
        "y_predict = regressor.predict(Xtest)\n",
        "print(y_predict)"
      ],
      "execution_count": 27,
      "outputs": [
        {
          "output_type": "stream",
          "text": [
            "/usr/local/lib/python3.6/dist-packages/ipykernel_launcher.py:2: DataConversionWarning: A column-vector y was passed when a 1d array was expected. Please change the shape of y to (n_samples,), for example using ravel().\n",
            "  \n"
          ],
          "name": "stderr"
        },
        {
          "output_type": "stream",
          "text": [
            "[125005.34 155255.87 173799.82 ... 146381.38 112881.58 225284.96]\n"
          ],
          "name": "stdout"
        }
      ]
    },
    {
      "cell_type": "code",
      "metadata": {
        "id": "gHYK4OtnIroa",
        "colab_type": "code",
        "colab": {}
      },
      "source": [
        ""
      ],
      "execution_count": null,
      "outputs": []
    }
  ]
}